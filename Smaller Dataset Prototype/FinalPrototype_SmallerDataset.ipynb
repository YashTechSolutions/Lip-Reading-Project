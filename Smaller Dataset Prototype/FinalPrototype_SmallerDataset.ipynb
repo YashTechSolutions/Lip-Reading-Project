{
  "cells": [
    {
      "cell_type": "markdown",
      "metadata": {
        "id": "8cGW5TLlbqjo"
      },
      "source": [
        "INITIAL SETUP I: INSTALLING PACKAGES"
      ]
    },
    {
      "cell_type": "code",
      "execution_count": 1,
      "metadata": {
        "colab": {
          "base_uri": "https://localhost:8080/"
        },
        "id": "GHyGgcKRbqjr",
        "outputId": "ac7a12d4-61f8-4394-af01-8021c78a6984"
      },
      "outputs": [
        {
          "output_type": "stream",
          "name": "stdout",
          "text": [
            "Requirement already satisfied: dlib in /usr/local/lib/python3.10/dist-packages (19.24.6)\n",
            "Requirement already satisfied: imutils in /usr/local/lib/python3.10/dist-packages (0.5.4)\n",
            "Requirement already satisfied: imageio in /usr/local/lib/python3.10/dist-packages (2.36.1)\n",
            "Requirement already satisfied: kaggle in /usr/local/lib/python3.10/dist-packages (1.6.17)\n",
            "Requirement already satisfied: seaborn in /usr/local/lib/python3.10/dist-packages (0.13.2)\n",
            "Requirement already satisfied: tensorflow in /usr/local/lib/python3.10/dist-packages (2.15.0)\n",
            "Requirement already satisfied: scikit-image in /usr/local/lib/python3.10/dist-packages (0.24.0)\n",
            "Requirement already satisfied: kagglehub in /usr/local/lib/python3.10/dist-packages (0.3.4)\n",
            "Requirement already satisfied: numpy in /usr/local/lib/python3.10/dist-packages (from imageio) (1.26.4)\n",
            "Requirement already satisfied: pillow>=8.3.2 in /usr/local/lib/python3.10/dist-packages (from imageio) (11.0.0)\n",
            "Requirement already satisfied: six>=1.10 in /usr/local/lib/python3.10/dist-packages (from kaggle) (1.16.0)\n",
            "Requirement already satisfied: certifi>=2023.7.22 in /usr/local/lib/python3.10/dist-packages (from kaggle) (2024.8.30)\n",
            "Requirement already satisfied: python-dateutil in /usr/local/lib/python3.10/dist-packages (from kaggle) (2.9.0.post0)\n",
            "Requirement already satisfied: requests in /usr/local/lib/python3.10/dist-packages (from kaggle) (2.32.3)\n",
            "Requirement already satisfied: tqdm in /usr/local/lib/python3.10/dist-packages (from kaggle) (4.66.6)\n",
            "Requirement already satisfied: python-slugify in /usr/local/lib/python3.10/dist-packages (from kaggle) (8.0.4)\n",
            "Requirement already satisfied: urllib3 in /usr/local/lib/python3.10/dist-packages (from kaggle) (2.2.3)\n",
            "Requirement already satisfied: bleach in /usr/local/lib/python3.10/dist-packages (from kaggle) (6.2.0)\n",
            "Requirement already satisfied: pandas>=1.2 in /usr/local/lib/python3.10/dist-packages (from seaborn) (2.2.2)\n",
            "Requirement already satisfied: matplotlib!=3.6.1,>=3.4 in /usr/local/lib/python3.10/dist-packages (from seaborn) (3.8.0)\n",
            "Requirement already satisfied: absl-py>=1.0.0 in /usr/local/lib/python3.10/dist-packages (from tensorflow) (1.4.0)\n",
            "Requirement already satisfied: astunparse>=1.6.0 in /usr/local/lib/python3.10/dist-packages (from tensorflow) (1.6.3)\n",
            "Requirement already satisfied: flatbuffers>=23.5.26 in /usr/local/lib/python3.10/dist-packages (from tensorflow) (24.3.25)\n",
            "Requirement already satisfied: gast!=0.5.0,!=0.5.1,!=0.5.2,>=0.2.1 in /usr/local/lib/python3.10/dist-packages (from tensorflow) (0.6.0)\n",
            "Requirement already satisfied: google-pasta>=0.1.1 in /usr/local/lib/python3.10/dist-packages (from tensorflow) (0.2.0)\n",
            "Requirement already satisfied: h5py>=2.9.0 in /usr/local/lib/python3.10/dist-packages (from tensorflow) (3.12.1)\n",
            "Requirement already satisfied: libclang>=13.0.0 in /usr/local/lib/python3.10/dist-packages (from tensorflow) (18.1.1)\n",
            "Requirement already satisfied: ml-dtypes~=0.2.0 in /usr/local/lib/python3.10/dist-packages (from tensorflow) (0.2.0)\n",
            "Requirement already satisfied: opt-einsum>=2.3.2 in /usr/local/lib/python3.10/dist-packages (from tensorflow) (3.4.0)\n",
            "Requirement already satisfied: packaging in /usr/local/lib/python3.10/dist-packages (from tensorflow) (24.2)\n",
            "Requirement already satisfied: protobuf!=4.21.0,!=4.21.1,!=4.21.2,!=4.21.3,!=4.21.4,!=4.21.5,<5.0.0dev,>=3.20.3 in /usr/local/lib/python3.10/dist-packages (from tensorflow) (4.25.5)\n",
            "Requirement already satisfied: setuptools in /usr/local/lib/python3.10/dist-packages (from tensorflow) (75.1.0)\n",
            "Requirement already satisfied: termcolor>=1.1.0 in /usr/local/lib/python3.10/dist-packages (from tensorflow) (2.5.0)\n",
            "Requirement already satisfied: typing-extensions>=3.6.6 in /usr/local/lib/python3.10/dist-packages (from tensorflow) (4.12.2)\n",
            "Requirement already satisfied: wrapt<1.15,>=1.11.0 in /usr/local/lib/python3.10/dist-packages (from tensorflow) (1.14.1)\n",
            "Requirement already satisfied: tensorflow-io-gcs-filesystem>=0.23.1 in /usr/local/lib/python3.10/dist-packages (from tensorflow) (0.37.1)\n",
            "Requirement already satisfied: grpcio<2.0,>=1.24.3 in /usr/local/lib/python3.10/dist-packages (from tensorflow) (1.68.1)\n",
            "Requirement already satisfied: tensorboard<2.16,>=2.15 in /usr/local/lib/python3.10/dist-packages (from tensorflow) (2.15.2)\n",
            "Requirement already satisfied: tensorflow-estimator<2.16,>=2.15.0 in /usr/local/lib/python3.10/dist-packages (from tensorflow) (2.15.0)\n",
            "Requirement already satisfied: keras<2.16,>=2.15.0 in /usr/local/lib/python3.10/dist-packages (from tensorflow) (2.15.0)\n",
            "Requirement already satisfied: scipy>=1.9 in /usr/local/lib/python3.10/dist-packages (from scikit-image) (1.13.1)\n",
            "Requirement already satisfied: networkx>=2.8 in /usr/local/lib/python3.10/dist-packages (from scikit-image) (3.4.2)\n",
            "Requirement already satisfied: tifffile>=2022.8.12 in /usr/local/lib/python3.10/dist-packages (from scikit-image) (2024.9.20)\n",
            "Requirement already satisfied: lazy-loader>=0.4 in /usr/local/lib/python3.10/dist-packages (from scikit-image) (0.4)\n",
            "Requirement already satisfied: wheel<1.0,>=0.23.0 in /usr/local/lib/python3.10/dist-packages (from astunparse>=1.6.0->tensorflow) (0.45.1)\n",
            "Requirement already satisfied: contourpy>=1.0.1 in /usr/local/lib/python3.10/dist-packages (from matplotlib!=3.6.1,>=3.4->seaborn) (1.3.1)\n",
            "Requirement already satisfied: cycler>=0.10 in /usr/local/lib/python3.10/dist-packages (from matplotlib!=3.6.1,>=3.4->seaborn) (0.12.1)\n",
            "Requirement already satisfied: fonttools>=4.22.0 in /usr/local/lib/python3.10/dist-packages (from matplotlib!=3.6.1,>=3.4->seaborn) (4.55.1)\n",
            "Requirement already satisfied: kiwisolver>=1.0.1 in /usr/local/lib/python3.10/dist-packages (from matplotlib!=3.6.1,>=3.4->seaborn) (1.4.7)\n",
            "Requirement already satisfied: pyparsing>=2.3.1 in /usr/local/lib/python3.10/dist-packages (from matplotlib!=3.6.1,>=3.4->seaborn) (3.2.0)\n",
            "Requirement already satisfied: pytz>=2020.1 in /usr/local/lib/python3.10/dist-packages (from pandas>=1.2->seaborn) (2024.2)\n",
            "Requirement already satisfied: tzdata>=2022.7 in /usr/local/lib/python3.10/dist-packages (from pandas>=1.2->seaborn) (2024.2)\n",
            "Requirement already satisfied: google-auth<3,>=1.6.3 in /usr/local/lib/python3.10/dist-packages (from tensorboard<2.16,>=2.15->tensorflow) (2.27.0)\n",
            "Requirement already satisfied: google-auth-oauthlib<2,>=0.5 in /usr/local/lib/python3.10/dist-packages (from tensorboard<2.16,>=2.15->tensorflow) (1.2.1)\n",
            "Requirement already satisfied: markdown>=2.6.8 in /usr/local/lib/python3.10/dist-packages (from tensorboard<2.16,>=2.15->tensorflow) (3.7)\n",
            "Requirement already satisfied: tensorboard-data-server<0.8.0,>=0.7.0 in /usr/local/lib/python3.10/dist-packages (from tensorboard<2.16,>=2.15->tensorflow) (0.7.2)\n",
            "Requirement already satisfied: werkzeug>=1.0.1 in /usr/local/lib/python3.10/dist-packages (from tensorboard<2.16,>=2.15->tensorflow) (3.1.3)\n",
            "Requirement already satisfied: charset-normalizer<4,>=2 in /usr/local/lib/python3.10/dist-packages (from requests->kaggle) (3.4.0)\n",
            "Requirement already satisfied: idna<4,>=2.5 in /usr/local/lib/python3.10/dist-packages (from requests->kaggle) (3.10)\n",
            "Requirement already satisfied: webencodings in /usr/local/lib/python3.10/dist-packages (from bleach->kaggle) (0.5.1)\n",
            "Requirement already satisfied: text-unidecode>=1.3 in /usr/local/lib/python3.10/dist-packages (from python-slugify->kaggle) (1.3)\n",
            "Requirement already satisfied: cachetools<6.0,>=2.0.0 in /usr/local/lib/python3.10/dist-packages (from google-auth<3,>=1.6.3->tensorboard<2.16,>=2.15->tensorflow) (5.5.0)\n",
            "Requirement already satisfied: pyasn1-modules>=0.2.1 in /usr/local/lib/python3.10/dist-packages (from google-auth<3,>=1.6.3->tensorboard<2.16,>=2.15->tensorflow) (0.4.1)\n",
            "Requirement already satisfied: rsa<5,>=3.1.4 in /usr/local/lib/python3.10/dist-packages (from google-auth<3,>=1.6.3->tensorboard<2.16,>=2.15->tensorflow) (4.9)\n",
            "Requirement already satisfied: requests-oauthlib>=0.7.0 in /usr/local/lib/python3.10/dist-packages (from google-auth-oauthlib<2,>=0.5->tensorboard<2.16,>=2.15->tensorflow) (2.0.0)\n",
            "Requirement already satisfied: MarkupSafe>=2.1.1 in /usr/local/lib/python3.10/dist-packages (from werkzeug>=1.0.1->tensorboard<2.16,>=2.15->tensorflow) (3.0.2)\n",
            "Requirement already satisfied: pyasn1<0.7.0,>=0.4.6 in /usr/local/lib/python3.10/dist-packages (from pyasn1-modules>=0.2.1->google-auth<3,>=1.6.3->tensorboard<2.16,>=2.15->tensorflow) (0.6.1)\n",
            "Requirement already satisfied: oauthlib>=3.0.0 in /usr/local/lib/python3.10/dist-packages (from requests-oauthlib>=0.7.0->google-auth-oauthlib<2,>=0.5->tensorboard<2.16,>=2.15->tensorflow) (3.2.2)\n"
          ]
        }
      ],
      "source": [
        "# Install necessary packages\n",
        "!pip install dlib imutils imageio kaggle seaborn tensorflow scikit-image kagglehub"
      ]
    },
    {
      "cell_type": "markdown",
      "metadata": {
        "id": "9IkWR6Snbqjs"
      },
      "source": [
        "INITIAL SETUP II: IMPORTING LIBRARIES"
      ]
    },
    {
      "cell_type": "code",
      "execution_count": 2,
      "metadata": {
        "id": "JpNQRFFbTOc4"
      },
      "outputs": [],
      "source": [
        "# Import libraries\n",
        "import os\n",
        "import numpy as np\n",
        "import pandas as pd\n",
        "import cv2\n",
        "import dlib\n",
        "import imutils\n",
        "import imageio\n",
        "from imutils import face_utils\n",
        "from skimage.transform import resize\n",
        "from sklearn.utils import shuffle\n",
        "from sklearn.metrics import confusion_matrix, classification_report\n",
        "import matplotlib.pyplot as plt\n",
        "import seaborn as sns\n",
        "from tensorflow.keras.layers import (\n",
        "    Conv3D, MaxPooling3D, Flatten, Dense, Dropout, BatchNormalization\n",
        ")\n",
        "from tensorflow.keras.models import Sequential\n",
        "from tensorflow.keras.utils import to_categorical\n",
        "from tensorflow.keras.callbacks import ReduceLROnPlateau, EarlyStopping\n",
        "from tensorflow.keras.regularizers import l2\n",
        "import time\n"
      ]
    },
    {
      "cell_type": "markdown",
      "metadata": {
        "id": "N5P68C5vbqju"
      },
      "source": [
        "INITIAL SETUP III: SETTING UP MODEL FILES AND RETIREVING DATASET"
      ]
    },
    {
      "cell_type": "code",
      "execution_count": 6,
      "metadata": {
        "colab": {
          "base_uri": "https://localhost:8080/"
        },
        "id": "WGdN2Lrjbqju",
        "outputId": "f5a54d1d-deb6-4d61-c7d9-4cca3f814076"
      },
      "outputs": [
        {
          "output_type": "stream",
          "name": "stdout",
          "text": [
            "mkdir: cannot create directory ‘/root/.kaggle’: File exists\n",
            "mv: cannot stat 'kaggle.json': No such file or directory\n",
            "chmod: cannot access '/root/.kaggle/kaggle.json': No such file or directory\n",
            "Dataset URL: https://www.kaggle.com/datasets/apoorvwatsky/miraclvc1\n",
            "License(s): unknown\n",
            "Downloading miraclvc1.zip to /content/dataset\n",
            "100% 5.12G/5.13G [00:14<00:00, 395MB/s]\n",
            "100% 5.13G/5.13G [00:14<00:00, 370MB/s]\n"
          ]
        }
      ],
      "source": [
        "\n",
        "# Ensure the dataset and model file are accessible\n",
        "!mkdir -p /content/dataset\n",
        "!mkdir -p /content/models\n",
        "\n",
        "!mkdir ~/.kaggle\n",
        "!mv kaggle.json ~/.kaggle/\n",
        "!chmod 600 ~/.kaggle/kaggle.json\n",
        "\n",
        "!kaggle datasets download -d apoorvwatsky/miraclvc1 -p /content/dataset --unzip\n",
        "\n",
        "# Download dataset\n",
        "import kagglehub\n",
        "dataset_path = kagglehub.dataset_download(\"apoorvwatsky/miraclvc1\")\n",
        "dataset_dir = \"/root/.cache/kagglehub/datasets/apoorvwatsky/miraclvc1/versions/3/dataset/dataset\"\n",
        "predictor_path = \"/root/.cache/kagglehub/datasets/apoorvwatsky/miraclvc1/versions/3/shape_predictor_68_face_landmarks.dat\"\n",
        "\n",
        "if not os.path.exists(dataset_dir) or not os.path.exists(predictor_path):\n",
        "    raise FileNotFoundError(\"Dataset directory or shape predictor file not found.\")"
      ]
    },
    {
      "cell_type": "code",
      "source": [
        "from google.colab import drive\n",
        "drive.mount('/content/drive')"
      ],
      "metadata": {
        "id": "cSSZM2c6cgDj",
        "colab": {
          "base_uri": "https://localhost:8080/"
        },
        "outputId": "db3b1110-cd91-4100-941c-607dee62d560"
      },
      "execution_count": 5,
      "outputs": [
        {
          "output_type": "stream",
          "name": "stdout",
          "text": [
            "Mounted at /content/drive\n"
          ]
        }
      ]
    },
    {
      "cell_type": "markdown",
      "metadata": {
        "id": "WiLa-bipbqju"
      },
      "source": [
        "DATA MANIPULATION I: DEFINING DATA MANIPULATION FUNCTIONS"
      ]
    },
    {
      "cell_type": "code",
      "execution_count": 3,
      "metadata": {
        "id": "WpsTLaGqbqju"
      },
      "outputs": [],
      "source": [
        "# Functions for face cropping\n",
        "def rect_to_bb(rect):\n",
        "    x, y, w, h = rect.left(), rect.top(), rect.right() - rect.left(), rect.bottom() - rect.top()\n",
        "    return x, y, w, h\n",
        "\n",
        "def shape_to_np(shape, dtype=\"int\"):\n",
        "    coords = np.zeros((68, 2), dtype=dtype)\n",
        "    for i in range(68):\n",
        "        coords[i] = (shape.part(i).x, shape.part(i).y)\n",
        "    return coords\n",
        "\n",
        "def crop_and_save_image(img, img_path, write_img_path, img_name, predictor):\n",
        "    detector = dlib.get_frontal_face_detector()\n",
        "    image = cv2.imread(img_path)\n",
        "    image = imutils.resize(image, width=500)\n",
        "    gray = cv2.cvtColor(image, cv2.COLOR_BGR2GRAY)\n",
        "    rects = detector(gray, 1)\n",
        "    if len(rects) != 1:\n",
        "        print(f\"ERROR: Detected {len(rects)} faces.\")\n",
        "        return\n",
        "    shape = predictor(gray, rects[0])\n",
        "    shape = face_utils.shape_to_np(shape)\n",
        "    x, y, w, h = cv2.boundingRect(np.array([shape[48:68]]))\n",
        "    roi = gray[y:y+h, x:x+w]\n",
        "    roi = imutils.resize(roi, width=250)\n",
        "    os.makedirs(os.path.dirname(write_img_path), exist_ok=True)\n",
        "    cv2.imwrite(write_img_path, roi)"
      ]
    },
    {
      "cell_type": "markdown",
      "metadata": {
        "id": "nGx-ri_2bqjv"
      },
      "source": [
        "DATA MANIPULATION II: DEFINING DATASET"
      ]
    },
    {
      "cell_type": "code",
      "execution_count": 4,
      "metadata": {
        "id": "o865CBSDbqjv"
      },
      "outputs": [],
      "source": [
        "# Dataset\n",
        "people = ['F01', 'F02', 'F04', 'F05', 'F06', 'F07', 'F08', 'F09', 'F10', 'F11', 'M01', 'M02', 'M04', 'M07', 'M08']\n",
        "data_types = ['words']\n",
        "folder_enum = ['01', '02', '05','07','08','10']\n",
        "instances = ['01', '02']\n",
        "words = ['Begin', 'Choose', 'Next',  'Start', 'Stop',  'Web']"
      ]
    },
    {
      "cell_type": "markdown",
      "metadata": {
        "id": "Cc8gQMv2bqjv"
      },
      "source": [
        "DATA MANIPULATION III: CROPING EACH PERSON"
      ]
    },
    {
      "cell_type": "code",
      "execution_count": null,
      "metadata": {
        "id": "_zUvzTG7bqjv"
      },
      "outputs": [],
      "source": [
        "\n",
        "def crop_one_person():\n",
        "    for person_ID in people:\n",
        "        for data_type in data_types:\n",
        "            for phrase_ID in folder_enum:\n",
        "                for instance_ID in instances:\n",
        "                    directory = os.path.join(dataset_dir, person_ID, data_type, phrase_ID, instance_ID)\n",
        "                    cropped_dir = f'cropped/{person_ID}/{data_type}/{phrase_ID}/{instance_ID}/'\n",
        "                    os.makedirs(cropped_dir, exist_ok=True)\n",
        "                    filelist = os.listdir(directory)\n",
        "                    for img_name in filelist:\n",
        "                        if img_name.startswith('color'):\n",
        "                            image = imageio.imread(os.path.join(directory, img_name))\n",
        "                            crop_and_save_image(\n",
        "                                image,\n",
        "                                os.path.join(directory, img_name),\n",
        "                                os.path.join(cropped_dir, img_name),\n",
        "                                img_name,\n",
        "                                dlib.shape_predictor(predictor_path)\n",
        "                            )\n",
        "\n",
        "# Crop all images\n",
        "crop_one_person()"
      ]
    },
    {
      "cell_type": "markdown",
      "metadata": {
        "id": "DyO_i-cJbqjv"
      },
      "source": [
        "DATA MANIPULATION IV: PREPARE DATA FOR TRAINING"
      ]
    },
    {
      "cell_type": "code",
      "execution_count": 5,
      "metadata": {
        "id": "GhbXPMdObqjv",
        "colab": {
          "base_uri": "https://localhost:8080/"
        },
        "outputId": "806a366d-641f-40d3-ebef-9819c31fdca7"
      },
      "outputs": [
        {
          "output_type": "stream",
          "name": "stderr",
          "text": [
            "<ipython-input-5-51a011194463>:18: DeprecationWarning: Starting with ImageIO v3 the behavior of this function will switch to that of iio.v3.imread. To keep the current behavior (and make this warning disappear) use `import imageio.v2 as imageio` or call `imageio.v2.imread` directly.\n",
            "  image = imageio.imread(os.path.join(path, img_name))\n"
          ]
        }
      ],
      "source": [
        "max_seq_length = 22\n",
        "MAX_WIDTH, MAX_HEIGHT = 100, 100\n",
        "UNSEEN_VALIDATION_SPLIT = ['F07', 'M02']\n",
        "UNSEEN_TEST_SPLIT = ['F04', 'M01']\n",
        "\n",
        "X_train, y_train, X_val, y_val, X_test, y_test = [], [], [], [], [], []\n",
        "\n",
        "directory = \"/content/drive/MyDrive/CV_Final Submission/cropped\"\n",
        "for person_id in people:\n",
        "    for data_type in data_types:\n",
        "        for word_index, word in enumerate(folder_enum):\n",
        "            for iteration in instances:\n",
        "                path = os.path.join(directory, person_id, data_type, word, iteration)\n",
        "                filelist = sorted(os.listdir(path))\n",
        "                sequence = []\n",
        "                for img_name in filelist:\n",
        "                    if img_name.startswith('color'):\n",
        "                        image = imageio.imread(os.path.join(path, img_name))\n",
        "                        image = resize(image, (MAX_WIDTH, MAX_HEIGHT))\n",
        "                        image = (255 * image).astype(np.uint8)\n",
        "                        sequence.append(image)\n",
        "                pad_array = [np.zeros((MAX_WIDTH, MAX_HEIGHT))] * (max_seq_length - len(sequence))\n",
        "                sequence.extend(pad_array)\n",
        "                if person_id in UNSEEN_TEST_SPLIT:\n",
        "                    X_test.append(sequence)\n",
        "                    y_test.append(word_index)\n",
        "                elif person_id in UNSEEN_VALIDATION_SPLIT:\n",
        "                    X_val.append(sequence)\n",
        "                    y_val.append(word_index)\n",
        "                else:\n",
        "                    X_train.append(sequence)\n",
        "                    y_train.append(word_index)\n",
        "\n",
        "X_train, X_val, X_test = map(np.array, (X_train, X_val, X_test))\n",
        "y_train, y_val, y_test = map(lambda y: to_categorical(y, 10), (y_train, y_val, y_test))\n",
        "\n",
        "X_train = np.expand_dims(X_train, axis=4)\n",
        "X_val = np.expand_dims(X_val, axis=4)\n",
        "X_test = np.expand_dims(X_test, axis=4)"
      ]
    },
    {
      "cell_type": "markdown",
      "metadata": {
        "id": "G7QtRiqIbqjw"
      },
      "source": [
        "MODEL CREATION"
      ]
    },
    {
      "cell_type": "code",
      "execution_count": 36,
      "metadata": {
        "id": "VgK9JaKBbqjw",
        "colab": {
          "base_uri": "https://localhost:8080/"
        },
        "outputId": "ad5355c4-4c80-4962-9e47-7f9f2ac1704a"
      },
      "outputs": [
        {
          "output_type": "stream",
          "name": "stdout",
          "text": [
            "Model: \"enhanced_lip_net_with_efficient_net_4\"\n",
            "_________________________________________________________________\n",
            " Layer (type)                Output Shape              Param #   \n",
            "=================================================================\n",
            " efficientnetb0 (Functional  (None, 4, 4, 1280)        4049571   \n",
            " )                                                               \n",
            "                                                                 \n",
            " bidirectional_4 (Bidirecti  multiple                  1442816   \n",
            " onal)                                                           \n",
            "                                                                 \n",
            " multi_head_attention_4 (Mu  multiple                  263168    \n",
            " ltiHeadAttention)                                               \n",
            "                                                                 \n",
            " dense_4 (Dense)             multiple                  2570      \n",
            "                                                                 \n",
            "=================================================================\n",
            "Total params: 5758125 (21.97 MB)\n",
            "Trainable params: 1708554 (6.52 MB)\n",
            "Non-trainable params: 4049571 (15.45 MB)\n",
            "_________________________________________________________________\n"
          ]
        }
      ],
      "source": [
        "# Model definition using EfficientNet\n",
        "import tensorflow as tf\n",
        "from tensorflow.keras import layers, Model\n",
        "from tensorflow.keras.applications import EfficientNetB0\n",
        "from tensorflow.keras.saving import register_keras_serializable\n",
        "\n",
        "@register_keras_serializable()\n",
        "class EnhancedLipNetWithEfficientNet(Model):\n",
        "    def __init__(self, num_classes=10, dropout_rate=0.3, num_heads=4, key_dim=64):\n",
        "        super().__init__()\n",
        "        self.efficientnet = EfficientNetB0(include_top=False, weights='imagenet', input_shape=(100, 100, 3))\n",
        "        self.efficientnet.trainable = False\n",
        "        self.lstm = layers.Bidirectional(layers.LSTM(128, return_sequences=True))\n",
        "        self.attention = layers.MultiHeadAttention(num_heads=num_heads, key_dim=key_dim)\n",
        "        self.fc = layers.Dense(num_classes, activation='softmax')\n",
        "\n",
        "    def call(self, inputs):\n",
        "        batch_size, time_steps, height, width, channels = tf.unstack(tf.shape(inputs))\n",
        "\n",
        "        # Reshape the inputs for EfficientNet\n",
        "        inputs_rgb = tf.reshape(inputs, [-1, height, width, channels])\n",
        "        inputs_rgb = tf.image.grayscale_to_rgb(inputs_rgb)  # Convert grayscale to RGB\n",
        "\n",
        "        # Pass through EfficientNet\n",
        "        x = self.efficientnet(inputs_rgb)  # Output shape: (batch_size * time_steps, feature_map_h, feature_map_w, feature_channels)\n",
        "        x = tf.reduce_mean(x, axis=[1, 2])  # Global average pooling (GAP), shape: (batch_size * time_steps, feature_channels)\n",
        "\n",
        "        # Reshape back to temporal sequence format\n",
        "        feature_dim = x.shape[-1]  # Dynamically infer the feature dimension\n",
        "        x = tf.reshape(x, [batch_size, time_steps, feature_dim])\n",
        "\n",
        "        # Process sequence with LSTM and attention\n",
        "        x = self.lstm(x)\n",
        "        x = self.attention(x, x)\n",
        "        x = tf.reduce_mean(x, axis=1)  # Reduce temporal axis\n",
        "\n",
        "        # Final classification layer\n",
        "        return self.fc(x)\n",
        "\n",
        "\n",
        "\n",
        "# Initialize and compile the model\n",
        "model = EnhancedLipNetWithEfficientNet(num_classes=10)\n",
        "# Compile the model with AdamW optimizer\n",
        "optimizer = tf.keras.optimizers.AdamW(learning_rate=0.001, weight_decay=1e-4)\n",
        "model.compile(optimizer=optimizer, loss='categorical_crossentropy', metrics=['accuracy'])\n",
        "\n",
        "# Print model summary\n",
        "model.summary()"
      ]
    },
    {
      "cell_type": "markdown",
      "metadata": {
        "id": "bRzq8OmWbqjw"
      },
      "source": [
        "TRAINING THE MODEL"
      ]
    },
    {
      "cell_type": "code",
      "execution_count": 38,
      "metadata": {
        "id": "wtzMiUa0bqjw",
        "colab": {
          "base_uri": "https://localhost:8080/",
          "height": 1000
        },
        "outputId": "e68eed1b-a945-4e35-e662-2d801a2822cc"
      },
      "outputs": [
        {
          "output_type": "stream",
          "name": "stdout",
          "text": [
            "Epoch 1/40\n",
            "9/9 [==============================] - 74s 8s/step - loss: 0.3387 - accuracy: 0.8485 - val_loss: 4.4894 - val_accuracy: 0.3750\n",
            "Epoch 2/40\n",
            "9/9 [==============================] - 73s 8s/step - loss: 0.2891 - accuracy: 0.8485 - val_loss: 1.2394 - val_accuracy: 0.6250\n",
            "Epoch 3/40\n",
            "9/9 [==============================] - 74s 8s/step - loss: 0.3268 - accuracy: 0.8712 - val_loss: 1.6545 - val_accuracy: 0.5417\n",
            "Epoch 4/40\n",
            "9/9 [==============================] - 73s 8s/step - loss: 0.2010 - accuracy: 0.9394 - val_loss: 2.0811 - val_accuracy: 0.5417\n",
            "Epoch 5/40\n",
            "9/9 [==============================] - 74s 8s/step - loss: 0.1525 - accuracy: 0.9318 - val_loss: 1.8678 - val_accuracy: 0.5417\n",
            "Epoch 6/40\n",
            "9/9 [==============================] - 73s 8s/step - loss: 0.1089 - accuracy: 0.9621 - val_loss: 1.9794 - val_accuracy: 0.5417\n",
            "Epoch 7/40\n",
            "9/9 [==============================] - 75s 8s/step - loss: 0.0925 - accuracy: 0.9773 - val_loss: 1.6951 - val_accuracy: 0.6250\n",
            "Epoch 8/40\n",
            "9/9 [==============================] - 73s 8s/step - loss: 0.1553 - accuracy: 0.9394 - val_loss: 2.6014 - val_accuracy: 0.5417\n",
            "Epoch 9/40\n",
            "9/9 [==============================] - 74s 8s/step - loss: 0.1815 - accuracy: 0.9242 - val_loss: 1.3321 - val_accuracy: 0.6667\n",
            "Epoch 10/40\n",
            "9/9 [==============================] - 73s 8s/step - loss: 0.1056 - accuracy: 0.9545 - val_loss: 1.1954 - val_accuracy: 0.6250\n",
            "Epoch 11/40\n",
            "9/9 [==============================] - 74s 8s/step - loss: 0.1428 - accuracy: 0.9394 - val_loss: 1.4768 - val_accuracy: 0.5417\n",
            "Epoch 12/40\n",
            "9/9 [==============================] - 73s 8s/step - loss: 0.2101 - accuracy: 0.9394 - val_loss: 1.0494 - val_accuracy: 0.7083\n",
            "Epoch 13/40\n",
            "9/9 [==============================] - 73s 8s/step - loss: 0.4018 - accuracy: 0.8864 - val_loss: 7.0181 - val_accuracy: 0.3750\n",
            "Epoch 14/40\n",
            "9/9 [==============================] - 73s 8s/step - loss: 0.7754 - accuracy: 0.7576 - val_loss: 4.0238 - val_accuracy: 0.4583\n",
            "Epoch 15/40\n",
            "9/9 [==============================] - 73s 8s/step - loss: 0.3608 - accuracy: 0.8561 - val_loss: 3.0581 - val_accuracy: 0.5833\n",
            "Epoch 16/40\n",
            "9/9 [==============================] - 75s 8s/step - loss: 0.2199 - accuracy: 0.9091 - val_loss: 1.7358 - val_accuracy: 0.5417\n",
            "Epoch 17/40\n",
            "9/9 [==============================] - 72s 8s/step - loss: 0.1690 - accuracy: 0.9545 - val_loss: 1.5719 - val_accuracy: 0.5000\n",
            "Epoch 18/40\n",
            "9/9 [==============================] - 73s 8s/step - loss: 0.1132 - accuracy: 0.9545 - val_loss: 1.5280 - val_accuracy: 0.5833\n",
            "Epoch 19/40\n",
            "9/9 [==============================] - 71s 8s/step - loss: 0.0871 - accuracy: 0.9773 - val_loss: 1.5147 - val_accuracy: 0.5833\n",
            "Epoch 20/40\n",
            "9/9 [==============================] - 73s 8s/step - loss: 0.0550 - accuracy: 0.9924 - val_loss: 1.6735 - val_accuracy: 0.6667\n",
            "Epoch 21/40\n",
            "9/9 [==============================] - 73s 8s/step - loss: 0.0624 - accuracy: 0.9848 - val_loss: 1.6750 - val_accuracy: 0.6667\n",
            "Epoch 22/40\n",
            "9/9 [==============================] - 73s 8s/step - loss: 0.0201 - accuracy: 1.0000 - val_loss: 1.8023 - val_accuracy: 0.6250\n",
            "Epoch 23/40\n",
            "9/9 [==============================] - 73s 8s/step - loss: 0.0214 - accuracy: 1.0000 - val_loss: 1.7972 - val_accuracy: 0.6667\n",
            "Epoch 24/40\n",
            "9/9 [==============================] - 71s 8s/step - loss: 0.0276 - accuracy: 1.0000 - val_loss: 1.5734 - val_accuracy: 0.6250\n",
            "Epoch 25/40\n"
          ]
        },
        {
          "output_type": "error",
          "ename": "KeyboardInterrupt",
          "evalue": "",
          "traceback": [
            "\u001b[0;31m---------------------------------------------------------------------------\u001b[0m",
            "\u001b[0;31mKeyboardInterrupt\u001b[0m                         Traceback (most recent call last)",
            "\u001b[0;32m<ipython-input-38-6238da1f0798>\u001b[0m in \u001b[0;36m<cell line: 2>\u001b[0;34m()\u001b[0m\n\u001b[1;32m      1\u001b[0m \u001b[0;31m# Train\u001b[0m\u001b[0;34m\u001b[0m\u001b[0;34m\u001b[0m\u001b[0m\n\u001b[0;32m----> 2\u001b[0;31m \u001b[0mhistory\u001b[0m \u001b[0;34m=\u001b[0m \u001b[0mmodel\u001b[0m\u001b[0;34m.\u001b[0m\u001b[0mfit\u001b[0m\u001b[0;34m(\u001b[0m\u001b[0mX_train\u001b[0m\u001b[0;34m,\u001b[0m \u001b[0my_train\u001b[0m\u001b[0;34m,\u001b[0m \u001b[0mvalidation_data\u001b[0m\u001b[0;34m=\u001b[0m\u001b[0;34m(\u001b[0m\u001b[0mX_val\u001b[0m\u001b[0;34m,\u001b[0m \u001b[0my_val\u001b[0m\u001b[0;34m)\u001b[0m\u001b[0;34m,\u001b[0m \u001b[0mepochs\u001b[0m\u001b[0;34m=\u001b[0m\u001b[0;36m40\u001b[0m\u001b[0;34m,\u001b[0m \u001b[0mbatch_size\u001b[0m\u001b[0;34m=\u001b[0m\u001b[0;36m16\u001b[0m\u001b[0;34m)\u001b[0m\u001b[0;34m\u001b[0m\u001b[0;34m\u001b[0m\u001b[0m\n\u001b[0m",
            "\u001b[0;32m/usr/local/lib/python3.10/dist-packages/keras/src/utils/traceback_utils.py\u001b[0m in \u001b[0;36merror_handler\u001b[0;34m(*args, **kwargs)\u001b[0m\n\u001b[1;32m     63\u001b[0m         \u001b[0mfiltered_tb\u001b[0m \u001b[0;34m=\u001b[0m \u001b[0;32mNone\u001b[0m\u001b[0;34m\u001b[0m\u001b[0;34m\u001b[0m\u001b[0m\n\u001b[1;32m     64\u001b[0m         \u001b[0;32mtry\u001b[0m\u001b[0;34m:\u001b[0m\u001b[0;34m\u001b[0m\u001b[0;34m\u001b[0m\u001b[0m\n\u001b[0;32m---> 65\u001b[0;31m             \u001b[0;32mreturn\u001b[0m \u001b[0mfn\u001b[0m\u001b[0;34m(\u001b[0m\u001b[0;34m*\u001b[0m\u001b[0margs\u001b[0m\u001b[0;34m,\u001b[0m \u001b[0;34m**\u001b[0m\u001b[0mkwargs\u001b[0m\u001b[0;34m)\u001b[0m\u001b[0;34m\u001b[0m\u001b[0;34m\u001b[0m\u001b[0m\n\u001b[0m\u001b[1;32m     66\u001b[0m         \u001b[0;32mexcept\u001b[0m \u001b[0mException\u001b[0m \u001b[0;32mas\u001b[0m \u001b[0me\u001b[0m\u001b[0;34m:\u001b[0m\u001b[0;34m\u001b[0m\u001b[0;34m\u001b[0m\u001b[0m\n\u001b[1;32m     67\u001b[0m             \u001b[0mfiltered_tb\u001b[0m \u001b[0;34m=\u001b[0m \u001b[0m_process_traceback_frames\u001b[0m\u001b[0;34m(\u001b[0m\u001b[0me\u001b[0m\u001b[0;34m.\u001b[0m\u001b[0m__traceback__\u001b[0m\u001b[0;34m)\u001b[0m\u001b[0;34m\u001b[0m\u001b[0;34m\u001b[0m\u001b[0m\n",
            "\u001b[0;32m/usr/local/lib/python3.10/dist-packages/keras/src/engine/training.py\u001b[0m in \u001b[0;36mfit\u001b[0;34m(self, x, y, batch_size, epochs, verbose, callbacks, validation_split, validation_data, shuffle, class_weight, sample_weight, initial_epoch, steps_per_epoch, validation_steps, validation_batch_size, validation_freq, max_queue_size, workers, use_multiprocessing)\u001b[0m\n\u001b[1;32m   1805\u001b[0m                         ):\n\u001b[1;32m   1806\u001b[0m                             \u001b[0mcallbacks\u001b[0m\u001b[0;34m.\u001b[0m\u001b[0mon_train_batch_begin\u001b[0m\u001b[0;34m(\u001b[0m\u001b[0mstep\u001b[0m\u001b[0;34m)\u001b[0m\u001b[0;34m\u001b[0m\u001b[0;34m\u001b[0m\u001b[0m\n\u001b[0;32m-> 1807\u001b[0;31m                             \u001b[0mtmp_logs\u001b[0m \u001b[0;34m=\u001b[0m \u001b[0mself\u001b[0m\u001b[0;34m.\u001b[0m\u001b[0mtrain_function\u001b[0m\u001b[0;34m(\u001b[0m\u001b[0miterator\u001b[0m\u001b[0;34m)\u001b[0m\u001b[0;34m\u001b[0m\u001b[0;34m\u001b[0m\u001b[0m\n\u001b[0m\u001b[1;32m   1808\u001b[0m                             \u001b[0;32mif\u001b[0m \u001b[0mdata_handler\u001b[0m\u001b[0;34m.\u001b[0m\u001b[0mshould_sync\u001b[0m\u001b[0;34m:\u001b[0m\u001b[0;34m\u001b[0m\u001b[0;34m\u001b[0m\u001b[0m\n\u001b[1;32m   1809\u001b[0m                                 \u001b[0mcontext\u001b[0m\u001b[0;34m.\u001b[0m\u001b[0masync_wait\u001b[0m\u001b[0;34m(\u001b[0m\u001b[0;34m)\u001b[0m\u001b[0;34m\u001b[0m\u001b[0;34m\u001b[0m\u001b[0m\n",
            "\u001b[0;32m/usr/local/lib/python3.10/dist-packages/tensorflow/python/util/traceback_utils.py\u001b[0m in \u001b[0;36merror_handler\u001b[0;34m(*args, **kwargs)\u001b[0m\n\u001b[1;32m    148\u001b[0m     \u001b[0mfiltered_tb\u001b[0m \u001b[0;34m=\u001b[0m \u001b[0;32mNone\u001b[0m\u001b[0;34m\u001b[0m\u001b[0;34m\u001b[0m\u001b[0m\n\u001b[1;32m    149\u001b[0m     \u001b[0;32mtry\u001b[0m\u001b[0;34m:\u001b[0m\u001b[0;34m\u001b[0m\u001b[0;34m\u001b[0m\u001b[0m\n\u001b[0;32m--> 150\u001b[0;31m       \u001b[0;32mreturn\u001b[0m \u001b[0mfn\u001b[0m\u001b[0;34m(\u001b[0m\u001b[0;34m*\u001b[0m\u001b[0margs\u001b[0m\u001b[0;34m,\u001b[0m \u001b[0;34m**\u001b[0m\u001b[0mkwargs\u001b[0m\u001b[0;34m)\u001b[0m\u001b[0;34m\u001b[0m\u001b[0;34m\u001b[0m\u001b[0m\n\u001b[0m\u001b[1;32m    151\u001b[0m     \u001b[0;32mexcept\u001b[0m \u001b[0mException\u001b[0m \u001b[0;32mas\u001b[0m \u001b[0me\u001b[0m\u001b[0;34m:\u001b[0m\u001b[0;34m\u001b[0m\u001b[0;34m\u001b[0m\u001b[0m\n\u001b[1;32m    152\u001b[0m       \u001b[0mfiltered_tb\u001b[0m \u001b[0;34m=\u001b[0m \u001b[0m_process_traceback_frames\u001b[0m\u001b[0;34m(\u001b[0m\u001b[0me\u001b[0m\u001b[0;34m.\u001b[0m\u001b[0m__traceback__\u001b[0m\u001b[0;34m)\u001b[0m\u001b[0;34m\u001b[0m\u001b[0;34m\u001b[0m\u001b[0m\n",
            "\u001b[0;32m/usr/local/lib/python3.10/dist-packages/tensorflow/python/eager/polymorphic_function/polymorphic_function.py\u001b[0m in \u001b[0;36m__call__\u001b[0;34m(self, *args, **kwds)\u001b[0m\n\u001b[1;32m    830\u001b[0m \u001b[0;34m\u001b[0m\u001b[0m\n\u001b[1;32m    831\u001b[0m       \u001b[0;32mwith\u001b[0m \u001b[0mOptionalXlaContext\u001b[0m\u001b[0;34m(\u001b[0m\u001b[0mself\u001b[0m\u001b[0;34m.\u001b[0m\u001b[0m_jit_compile\u001b[0m\u001b[0;34m)\u001b[0m\u001b[0;34m:\u001b[0m\u001b[0;34m\u001b[0m\u001b[0;34m\u001b[0m\u001b[0m\n\u001b[0;32m--> 832\u001b[0;31m         \u001b[0mresult\u001b[0m \u001b[0;34m=\u001b[0m \u001b[0mself\u001b[0m\u001b[0;34m.\u001b[0m\u001b[0m_call\u001b[0m\u001b[0;34m(\u001b[0m\u001b[0;34m*\u001b[0m\u001b[0margs\u001b[0m\u001b[0;34m,\u001b[0m \u001b[0;34m**\u001b[0m\u001b[0mkwds\u001b[0m\u001b[0;34m)\u001b[0m\u001b[0;34m\u001b[0m\u001b[0;34m\u001b[0m\u001b[0m\n\u001b[0m\u001b[1;32m    833\u001b[0m \u001b[0;34m\u001b[0m\u001b[0m\n\u001b[1;32m    834\u001b[0m       \u001b[0mnew_tracing_count\u001b[0m \u001b[0;34m=\u001b[0m \u001b[0mself\u001b[0m\u001b[0;34m.\u001b[0m\u001b[0mexperimental_get_tracing_count\u001b[0m\u001b[0;34m(\u001b[0m\u001b[0;34m)\u001b[0m\u001b[0;34m\u001b[0m\u001b[0;34m\u001b[0m\u001b[0m\n",
            "\u001b[0;32m/usr/local/lib/python3.10/dist-packages/tensorflow/python/eager/polymorphic_function/polymorphic_function.py\u001b[0m in \u001b[0;36m_call\u001b[0;34m(self, *args, **kwds)\u001b[0m\n\u001b[1;32m    866\u001b[0m       \u001b[0;31m# In this case we have created variables on the first call, so we run the\u001b[0m\u001b[0;34m\u001b[0m\u001b[0;34m\u001b[0m\u001b[0m\n\u001b[1;32m    867\u001b[0m       \u001b[0;31m# defunned version which is guaranteed to never create variables.\u001b[0m\u001b[0;34m\u001b[0m\u001b[0;34m\u001b[0m\u001b[0m\n\u001b[0;32m--> 868\u001b[0;31m       return tracing_compilation.call_function(\n\u001b[0m\u001b[1;32m    869\u001b[0m           \u001b[0margs\u001b[0m\u001b[0;34m,\u001b[0m \u001b[0mkwds\u001b[0m\u001b[0;34m,\u001b[0m \u001b[0mself\u001b[0m\u001b[0;34m.\u001b[0m\u001b[0m_no_variable_creation_config\u001b[0m\u001b[0;34m\u001b[0m\u001b[0;34m\u001b[0m\u001b[0m\n\u001b[1;32m    870\u001b[0m       )\n",
            "\u001b[0;32m/usr/local/lib/python3.10/dist-packages/tensorflow/python/eager/polymorphic_function/tracing_compilation.py\u001b[0m in \u001b[0;36mcall_function\u001b[0;34m(args, kwargs, tracing_options)\u001b[0m\n\u001b[1;32m    137\u001b[0m   \u001b[0mbound_args\u001b[0m \u001b[0;34m=\u001b[0m \u001b[0mfunction\u001b[0m\u001b[0;34m.\u001b[0m\u001b[0mfunction_type\u001b[0m\u001b[0;34m.\u001b[0m\u001b[0mbind\u001b[0m\u001b[0;34m(\u001b[0m\u001b[0;34m*\u001b[0m\u001b[0margs\u001b[0m\u001b[0;34m,\u001b[0m \u001b[0;34m**\u001b[0m\u001b[0mkwargs\u001b[0m\u001b[0;34m)\u001b[0m\u001b[0;34m\u001b[0m\u001b[0;34m\u001b[0m\u001b[0m\n\u001b[1;32m    138\u001b[0m   \u001b[0mflat_inputs\u001b[0m \u001b[0;34m=\u001b[0m \u001b[0mfunction\u001b[0m\u001b[0;34m.\u001b[0m\u001b[0mfunction_type\u001b[0m\u001b[0;34m.\u001b[0m\u001b[0munpack_inputs\u001b[0m\u001b[0;34m(\u001b[0m\u001b[0mbound_args\u001b[0m\u001b[0;34m)\u001b[0m\u001b[0;34m\u001b[0m\u001b[0;34m\u001b[0m\u001b[0m\n\u001b[0;32m--> 139\u001b[0;31m   return function._call_flat(  # pylint: disable=protected-access\n\u001b[0m\u001b[1;32m    140\u001b[0m       \u001b[0mflat_inputs\u001b[0m\u001b[0;34m,\u001b[0m \u001b[0mcaptured_inputs\u001b[0m\u001b[0;34m=\u001b[0m\u001b[0mfunction\u001b[0m\u001b[0;34m.\u001b[0m\u001b[0mcaptured_inputs\u001b[0m\u001b[0;34m\u001b[0m\u001b[0;34m\u001b[0m\u001b[0m\n\u001b[1;32m    141\u001b[0m   )\n",
            "\u001b[0;32m/usr/local/lib/python3.10/dist-packages/tensorflow/python/eager/polymorphic_function/concrete_function.py\u001b[0m in \u001b[0;36m_call_flat\u001b[0;34m(self, tensor_inputs, captured_inputs)\u001b[0m\n\u001b[1;32m   1321\u001b[0m         and executing_eagerly):\n\u001b[1;32m   1322\u001b[0m       \u001b[0;31m# No tape is watching; skip to running the function.\u001b[0m\u001b[0;34m\u001b[0m\u001b[0;34m\u001b[0m\u001b[0m\n\u001b[0;32m-> 1323\u001b[0;31m       \u001b[0;32mreturn\u001b[0m \u001b[0mself\u001b[0m\u001b[0;34m.\u001b[0m\u001b[0m_inference_function\u001b[0m\u001b[0;34m.\u001b[0m\u001b[0mcall_preflattened\u001b[0m\u001b[0;34m(\u001b[0m\u001b[0margs\u001b[0m\u001b[0;34m)\u001b[0m\u001b[0;34m\u001b[0m\u001b[0;34m\u001b[0m\u001b[0m\n\u001b[0m\u001b[1;32m   1324\u001b[0m     forward_backward = self._select_forward_and_backward_functions(\n\u001b[1;32m   1325\u001b[0m         \u001b[0margs\u001b[0m\u001b[0;34m,\u001b[0m\u001b[0;34m\u001b[0m\u001b[0;34m\u001b[0m\u001b[0m\n",
            "\u001b[0;32m/usr/local/lib/python3.10/dist-packages/tensorflow/python/eager/polymorphic_function/atomic_function.py\u001b[0m in \u001b[0;36mcall_preflattened\u001b[0;34m(self, args)\u001b[0m\n\u001b[1;32m    214\u001b[0m   \u001b[0;32mdef\u001b[0m \u001b[0mcall_preflattened\u001b[0m\u001b[0;34m(\u001b[0m\u001b[0mself\u001b[0m\u001b[0;34m,\u001b[0m \u001b[0margs\u001b[0m\u001b[0;34m:\u001b[0m \u001b[0mSequence\u001b[0m\u001b[0;34m[\u001b[0m\u001b[0mcore\u001b[0m\u001b[0;34m.\u001b[0m\u001b[0mTensor\u001b[0m\u001b[0;34m]\u001b[0m\u001b[0;34m)\u001b[0m \u001b[0;34m->\u001b[0m \u001b[0mAny\u001b[0m\u001b[0;34m:\u001b[0m\u001b[0;34m\u001b[0m\u001b[0;34m\u001b[0m\u001b[0m\n\u001b[1;32m    215\u001b[0m     \u001b[0;34m\"\"\"Calls with flattened tensor inputs and returns the structured output.\"\"\"\u001b[0m\u001b[0;34m\u001b[0m\u001b[0;34m\u001b[0m\u001b[0m\n\u001b[0;32m--> 216\u001b[0;31m     \u001b[0mflat_outputs\u001b[0m \u001b[0;34m=\u001b[0m \u001b[0mself\u001b[0m\u001b[0;34m.\u001b[0m\u001b[0mcall_flat\u001b[0m\u001b[0;34m(\u001b[0m\u001b[0;34m*\u001b[0m\u001b[0margs\u001b[0m\u001b[0;34m)\u001b[0m\u001b[0;34m\u001b[0m\u001b[0;34m\u001b[0m\u001b[0m\n\u001b[0m\u001b[1;32m    217\u001b[0m     \u001b[0;32mreturn\u001b[0m \u001b[0mself\u001b[0m\u001b[0;34m.\u001b[0m\u001b[0mfunction_type\u001b[0m\u001b[0;34m.\u001b[0m\u001b[0mpack_output\u001b[0m\u001b[0;34m(\u001b[0m\u001b[0mflat_outputs\u001b[0m\u001b[0;34m)\u001b[0m\u001b[0;34m\u001b[0m\u001b[0;34m\u001b[0m\u001b[0m\n\u001b[1;32m    218\u001b[0m \u001b[0;34m\u001b[0m\u001b[0m\n",
            "\u001b[0;32m/usr/local/lib/python3.10/dist-packages/tensorflow/python/eager/polymorphic_function/atomic_function.py\u001b[0m in \u001b[0;36mcall_flat\u001b[0;34m(self, *args)\u001b[0m\n\u001b[1;32m    249\u001b[0m         \u001b[0;32mwith\u001b[0m \u001b[0mrecord\u001b[0m\u001b[0;34m.\u001b[0m\u001b[0mstop_recording\u001b[0m\u001b[0;34m(\u001b[0m\u001b[0;34m)\u001b[0m\u001b[0;34m:\u001b[0m\u001b[0;34m\u001b[0m\u001b[0;34m\u001b[0m\u001b[0m\n\u001b[1;32m    250\u001b[0m           \u001b[0;32mif\u001b[0m \u001b[0mself\u001b[0m\u001b[0;34m.\u001b[0m\u001b[0m_bound_context\u001b[0m\u001b[0;34m.\u001b[0m\u001b[0mexecuting_eagerly\u001b[0m\u001b[0;34m(\u001b[0m\u001b[0;34m)\u001b[0m\u001b[0;34m:\u001b[0m\u001b[0;34m\u001b[0m\u001b[0;34m\u001b[0m\u001b[0m\n\u001b[0;32m--> 251\u001b[0;31m             outputs = self._bound_context.call_function(\n\u001b[0m\u001b[1;32m    252\u001b[0m                 \u001b[0mself\u001b[0m\u001b[0;34m.\u001b[0m\u001b[0mname\u001b[0m\u001b[0;34m,\u001b[0m\u001b[0;34m\u001b[0m\u001b[0;34m\u001b[0m\u001b[0m\n\u001b[1;32m    253\u001b[0m                 \u001b[0mlist\u001b[0m\u001b[0;34m(\u001b[0m\u001b[0margs\u001b[0m\u001b[0;34m)\u001b[0m\u001b[0;34m,\u001b[0m\u001b[0;34m\u001b[0m\u001b[0;34m\u001b[0m\u001b[0m\n",
            "\u001b[0;32m/usr/local/lib/python3.10/dist-packages/tensorflow/python/eager/context.py\u001b[0m in \u001b[0;36mcall_function\u001b[0;34m(self, name, tensor_inputs, num_outputs)\u001b[0m\n\u001b[1;32m   1484\u001b[0m     \u001b[0mcancellation_context\u001b[0m \u001b[0;34m=\u001b[0m \u001b[0mcancellation\u001b[0m\u001b[0;34m.\u001b[0m\u001b[0mcontext\u001b[0m\u001b[0;34m(\u001b[0m\u001b[0;34m)\u001b[0m\u001b[0;34m\u001b[0m\u001b[0;34m\u001b[0m\u001b[0m\n\u001b[1;32m   1485\u001b[0m     \u001b[0;32mif\u001b[0m \u001b[0mcancellation_context\u001b[0m \u001b[0;32mis\u001b[0m \u001b[0;32mNone\u001b[0m\u001b[0;34m:\u001b[0m\u001b[0;34m\u001b[0m\u001b[0;34m\u001b[0m\u001b[0m\n\u001b[0;32m-> 1486\u001b[0;31m       outputs = execute.execute(\n\u001b[0m\u001b[1;32m   1487\u001b[0m           \u001b[0mname\u001b[0m\u001b[0;34m.\u001b[0m\u001b[0mdecode\u001b[0m\u001b[0;34m(\u001b[0m\u001b[0;34m\"utf-8\"\u001b[0m\u001b[0;34m)\u001b[0m\u001b[0;34m,\u001b[0m\u001b[0;34m\u001b[0m\u001b[0;34m\u001b[0m\u001b[0m\n\u001b[1;32m   1488\u001b[0m           \u001b[0mnum_outputs\u001b[0m\u001b[0;34m=\u001b[0m\u001b[0mnum_outputs\u001b[0m\u001b[0;34m,\u001b[0m\u001b[0;34m\u001b[0m\u001b[0;34m\u001b[0m\u001b[0m\n",
            "\u001b[0;32m/usr/local/lib/python3.10/dist-packages/tensorflow/python/eager/execute.py\u001b[0m in \u001b[0;36mquick_execute\u001b[0;34m(op_name, num_outputs, inputs, attrs, ctx, name)\u001b[0m\n\u001b[1;32m     51\u001b[0m   \u001b[0;32mtry\u001b[0m\u001b[0;34m:\u001b[0m\u001b[0;34m\u001b[0m\u001b[0;34m\u001b[0m\u001b[0m\n\u001b[1;32m     52\u001b[0m     \u001b[0mctx\u001b[0m\u001b[0;34m.\u001b[0m\u001b[0mensure_initialized\u001b[0m\u001b[0;34m(\u001b[0m\u001b[0;34m)\u001b[0m\u001b[0;34m\u001b[0m\u001b[0;34m\u001b[0m\u001b[0m\n\u001b[0;32m---> 53\u001b[0;31m     tensors = pywrap_tfe.TFE_Py_Execute(ctx._handle, device_name, op_name,\n\u001b[0m\u001b[1;32m     54\u001b[0m                                         inputs, attrs, num_outputs)\n\u001b[1;32m     55\u001b[0m   \u001b[0;32mexcept\u001b[0m \u001b[0mcore\u001b[0m\u001b[0;34m.\u001b[0m\u001b[0m_NotOkStatusException\u001b[0m \u001b[0;32mas\u001b[0m \u001b[0me\u001b[0m\u001b[0;34m:\u001b[0m\u001b[0;34m\u001b[0m\u001b[0;34m\u001b[0m\u001b[0m\n",
            "\u001b[0;31mKeyboardInterrupt\u001b[0m: "
          ]
        }
      ],
      "source": [
        "# Train\n",
        "history = model.fit(X_train, y_train, validation_data=(X_val, y_val), epochs=40, batch_size=16)"
      ]
    },
    {
      "cell_type": "markdown",
      "metadata": {
        "id": "Ag18peN9bqjw"
      },
      "source": [
        "EVALUATION GRAPH AND CLASSIFICATION REPORT POST TRAINING"
      ]
    },
    {
      "cell_type": "code",
      "execution_count": 39,
      "metadata": {
        "colab": {
          "base_uri": "https://localhost:8080/",
          "height": 920
        },
        "id": "OMneVNDQCe_-",
        "outputId": "d2fe2048-4fc4-45e1-e190-05c9624901d8"
      },
      "outputs": [
        {
          "output_type": "display_data",
          "data": {
            "text/plain": [
              "<Figure size 640x480 with 1 Axes>"
            ],
            "image/png": "[encoded data removed]"
          },
          "metadata": {}
        },
        {
          "output_type": "stream",
          "name": "stderr",
          "text": [
            "WARNING:tensorflow:6 out of the last 9 calls to <function Model.make_predict_function.<locals>.predict_function at 0x7eedbc1f4790> triggered tf.function retracing. Tracing is expensive and the excessive number of tracings could be due to (1) creating @tf.function repeatedly in a loop, (2) passing tensors with different shapes, (3) passing Python objects instead of tensors. For (1), please define your @tf.function outside of the loop. For (2), @tf.function has reduce_retracing=True option that can avoid unnecessary retracing. For (3), please refer to https://www.tensorflow.org/guide/function#controlling_retracing and https://www.tensorflow.org/api_docs/python/tf/function for  more details.\n"
          ]
        },
        {
          "output_type": "stream",
          "name": "stdout",
          "text": [
            "1/1 [==============================] - 15s 15s/step\n"
          ]
        },
        {
          "output_type": "display_data",
          "data": {
            "text/plain": [
              "<Figure size 640x480 with 2 Axes>"
            ],
            "image/png": "[encoded data removed]"
          },
          "metadata": {}
        }
      ],
      "source": [
        "# Evaluate accuracy and loss graphs\n",
        "plt.plot(history.history['accuracy'], label='Train Accuracy')\n",
        "plt.plot(history.history['val_accuracy'], label='Validation Accuracy')\n",
        "plt.legend()\n",
        "plt.show()\n",
        "\n",
        "# Confusion matrix\n",
        "y_val_pred = model.predict(X_val)\n",
        "y_val_pred_classes = np.argmax(y_val_pred, axis=1)\n",
        "y_val_true_classes = np.argmax(y_val, axis=1)\n",
        "\n",
        "conf_matrix = confusion_matrix(y_val_true_classes, y_val_pred_classes)\n",
        "sns.heatmap(conf_matrix, annot=True, cmap=\"Blues\", fmt='d')\n",
        "plt.title(\"Validation Confusion Matrix\")\n",
        "plt.show()\n"
      ]
    },
    {
      "cell_type": "code",
      "execution_count": 40,
      "metadata": {
        "id": "H8B913yNbqjx",
        "colab": {
          "base_uri": "https://localhost:8080/"
        },
        "outputId": "afe75082-dfba-4259-a850-9526aa22398c"
      },
      "outputs": [
        {
          "output_type": "stream",
          "name": "stdout",
          "text": [
            "Validation Classification Report:\n",
            "              precision    recall  f1-score   support\n",
            "\n",
            "       Begin       0.33      0.25      0.29         4\n",
            "      Choose       1.00      0.50      0.67         4\n",
            "        Next       0.43      0.75      0.55         4\n",
            "       Start       1.00      0.50      0.67         4\n",
            "        Stop       0.80      1.00      0.89         4\n",
            "         Web       0.60      0.75      0.67         4\n",
            "\n",
            "    accuracy                           0.62        24\n",
            "   macro avg       0.69      0.62      0.62        24\n",
            "weighted avg       0.69      0.62      0.62        24\n",
            "\n",
            "1/1 [==============================] - 11s 11s/step\n",
            "Test accuracy: 0.5833333333333334\n",
            "Test Classification Report:\n",
            "              precision    recall  f1-score   support\n",
            "\n",
            "       Begin       0.75      0.75      0.75         4\n",
            "      Choose       0.50      0.75      0.60         4\n",
            "        Next       0.67      0.50      0.57         4\n",
            "       Start       1.00      0.50      0.67         4\n",
            "        Stop       0.57      1.00      0.73         4\n",
            "         Web       0.00      0.00      0.00         4\n",
            "\n",
            "    accuracy                           0.58        24\n",
            "   macro avg       0.58      0.58      0.55        24\n",
            "weighted avg       0.58      0.58      0.55        24\n",
            "\n"
          ]
        }
      ],
      "source": [
        "# Classification report for validation set\n",
        "val_classification_report = classification_report(y_val_true_classes, y_val_pred_classes, target_names=words)\n",
        "print(\"Validation Classification Report:\")\n",
        "print(val_classification_report)\n",
        "\n",
        "# Final test evaluation\n",
        "y_test_pred = model.predict(X_test)\n",
        "y_test_pred_classes = np.argmax(y_test_pred, axis=1)\n",
        "y_test_true_classes = np.argmax(y_test, axis=1)\n",
        "\n",
        "test_accuracy = np.mean(y_test_true_classes == y_test_pred_classes)\n",
        "print(f\"Test accuracy: {test_accuracy}\")\n",
        "\n",
        "# Test set classification report\n",
        "test_classification_report = classification_report(y_test_true_classes, y_test_pred_classes, target_names=words)\n",
        "print(\"Test Classification Report:\")\n",
        "print(test_classification_report)"
      ]
    },
    {
      "cell_type": "markdown",
      "metadata": {
        "id": "uAwJ74crbqjx"
      },
      "source": [
        "SAVING THE MODEL"
      ]
    },
    {
      "cell_type": "code",
      "execution_count": 41,
      "metadata": {
        "id": "xg3uxslHkTX6",
        "colab": {
          "base_uri": "https://localhost:8080/"
        },
        "outputId": "e7f6c27d-85f4-4b7f-e4b0-0b6987ca5d62"
      },
      "outputs": [
        {
          "output_type": "stream",
          "name": "stdout",
          "text": [
            "Model saved in Keras format to lip_reading_model_effnet_final_58.33.keras\n"
          ]
        }
      ],
      "source": [
        "# Save the model in Keras format\n",
        "model_save_path = \"lip_reading_model_effnet_final_58.33.keras\"\n",
        "model.save(model_save_path)\n",
        "print(f\"Model saved in Keras format to {model_save_path}\")\n"
      ]
    },
    {
      "cell_type": "markdown",
      "metadata": {
        "id": "kjjk2nJubqjx"
      },
      "source": [
        "LOADING THE MODEL"
      ]
    },
    {
      "cell_type": "code",
      "execution_count": null,
      "metadata": {
        "id": "dAW-PzWEpol-"
      },
      "outputs": [],
      "source": [
        "from tensorflow.keras.models import load_model\n",
        "\n",
        "# Load the saved model\n",
        "model_save_path = \"/content/lip_reading_model_effnet_final_58.33.keras\"\n",
        "new2 = load_model(model_save_path)\n",
        "print(\"Model loaded successfully.\")\n",
        "\n",
        "y_test_pred = new2.predict(X_test)\n",
        "y_test_pred_classes = np.argmax(y_test_pred, axis=1)\n",
        "y_test_true_classes = np.argmax(y_test, axis=1)\n",
        "\n",
        "test_accuracy = np.mean(y_test_true_classes == y_test_pred_classes)\n",
        "print(f\"Test Accuracy: {test_accuracy}\")\n",
        "\n",
        "test_classification_report = classification_report(y_test_true_classes, y_test_pred_classes, target_names=words)\n",
        "print(\"Test Classification Report:\")\n",
        "print(test_classification_report)\n",
        "# Compute confusion matrix\n",
        "conf_matrix = confusion_matrix(y_test_true_classes, y_test_pred_classes)\n",
        "\n",
        "# Plot confusion matrix\n",
        "plt.figure(figsize=(10, 8))\n",
        "sns.heatmap(conf_matrix, annot=True, fmt='d', cmap='Blues', xticklabels=words, yticklabels=words)\n",
        "plt.title('Confusion Matrix')\n",
        "plt.xlabel('Predicted')\n",
        "plt.ylabel('True')\n",
        "plt.show()"
      ]
    },
    {
      "cell_type": "code",
      "execution_count": null,
      "metadata": {
        "id": "iCg-cfJjpxrU"
      },
      "outputs": [],
      "source": []
    }
  ],
  "metadata": {
    "colab": {
      "provenance": [],
      "gpuType": "V28"
    },
    "kernelspec": {
      "display_name": "Python 3",
      "name": "python3"
    },
    "language_info": {
      "name": "python"
    },
    "accelerator": "TPU"
  },
  "nbformat": 4,
  "nbformat_minor": 0
}